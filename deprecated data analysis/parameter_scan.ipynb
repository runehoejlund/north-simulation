{
 "cells": [
  {
   "cell_type": "code",
   "execution_count": 38,
   "metadata": {},
   "outputs": [],
   "source": [
    "%matplotlib inline"
   ]
  },
  {
   "cell_type": "code",
   "execution_count": 39,
   "metadata": {},
   "outputs": [],
   "source": [
    "import re\n",
    "import os\n",
    "job_ids = [re.search('(\\d){7}', dir).group() for dir in os.listdir(\"./shared/NORTH/\") if re.search('data_(\\d){7}', dir)]\n",
    "job_ids.sort()\n",
    "# The last (highest id) job id is the lates job\n",
    "job_id = job_ids[-1]"
   ]
  },
  {
   "cell_type": "code",
   "execution_count": 40,
   "metadata": {},
   "outputs": [
    {
     "name": "stderr",
     "output_type": "stream",
     "text": [
      "/home/niflheim/s173965/venv/lib/python3.8/site-packages/boutdata/data.py:732: AlwaysWarning: While building x, y, z coordinate arrays, an exception occured: name 'mxg' is not defined\n",
      "Evaluating non-scalar options not available\n",
      "  alwayswarn(\n"
     ]
    }
   ],
   "source": [
    "import numpy as np\n",
    "from matplotlib import pyplot as plt\n",
    "from boutdata import collect\n",
    "import matplotlib.cm as cm\n",
    "import matplotlib.animation as animation\n",
    "from matplotlib.animation import FuncAnimation\n",
    "from boutdata.data import BoutData\n",
    "\n",
    "path        = './shared/NORTH/data_' + job_id + '/'\n",
    "bdata = BoutData(path)\n",
    "outputs = bdata['outputs']\n",
    "options  =bdata['options']\n",
    "\n",
    "field_keys = bdata['outputs'].keys()"
   ]
  },
  {
   "cell_type": "code",
   "execution_count": 41,
   "metadata": {},
   "outputs": [],
   "source": [
    "def get_CLI_option(job_id, key):\n",
    "    for i, line in enumerate(open('./shared/NORTH/slurm_out/north_full_' + job_id + '_ESEL.log', 'r')):\n",
    "        match = re.search('Command line options for this run.*' + key + '\\s*\\=\\s*(\\S*)', line)\n",
    "        if match:\n",
    "            try:\n",
    "                return eval(match.group(1))\n",
    "            except:\n",
    "                return match.group(1)\n",
    "\n",
    "def get_option(*keys):\n",
    "    cli_option = get_CLI_option(job_id, keys[-1])\n",
    "    if cli_option == None:\n",
    "        from numpy import sqrt, pi\n",
    "        from ast import parse, walk, Name\n",
    "        val = options\n",
    "        group = keys[0]\n",
    "        for key in keys:\n",
    "            val = val[key]\n",
    "        try:\n",
    "            return eval(str(val))\n",
    "        except:\n",
    "            # Parse undefined variables from the Bout.inp file:\n",
    "            val_str = str(val).replace(':', '____') # Replace group indicator ':' with '____' to make string parsable.\n",
    "            for node in walk(parse(val_str)):\n",
    "                if type(node) is Name:\n",
    "                    missing_keys = node.id.split('____')\n",
    "                    var = missing_keys[-1]\n",
    "                    if var not in locals():\n",
    "                        try:\n",
    "                            locals()[var] = get_option(*missing_keys)\n",
    "                        except:\n",
    "                            missing_keys.insert(0, group)\n",
    "                            try:\n",
    "                                locals()[var] = get_option(*missing_keys)\n",
    "                            except:\n",
    "                                print('Error reading option for keys: ', keys)\n",
    "                                return 0\n",
    "            return eval(str(val))\n",
    "    else:\n",
    "        return cli_option\n",
    "\n",
    "def get_options(keys_list):\n",
    "    vals = []\n",
    "    for keys in keys_list:\n",
    "        vals.append(get_option(*keys))\n",
    "    return vals"
   ]
  },
  {
   "cell_type": "code",
   "execution_count": 42,
   "metadata": {},
   "outputs": [],
   "source": [
    "oci, rho_s, R, n0, Te0, mxg, myg, nx_all, ny_all, nz_all = get_options([\n",
    "    ('north', 'oci'), ('north', 'rho_s'), ('north', 'R'),\n",
    "    ('north', 'n0'), ('north', 'Te0'),\n",
    "    ('mxg',), ('myg',),\n",
    "    ('mesh', 'nx'),('mesh', 'ny'),('mesh', 'nz')])\n",
    "Lx = R/rho_s * rho_s\n",
    "nx_inner = nx_all - 2*mxg\n",
    "ny_inner = ny_all - 2*myg\n",
    "nz_inner = nz_all"
   ]
  },
  {
   "cell_type": "markdown",
   "metadata": {},
   "source": [
    "**Strength of vorticity Sink**"
   ]
  },
  {
   "cell_type": "code",
   "execution_count": 43,
   "metadata": {},
   "outputs": [
    {
     "name": "stdout",
     "output_type": "stream",
     "text": [
      "vorticity sink strength: 10\n"
     ]
    }
   ],
   "source": [
    "try:\n",
    "    vort_sink_strength = get_option('north', 'vort_sink_strength')\n",
    "except:\n",
    "    if job_id == '5347831' or job_id == '5352599':\n",
    "        vort_sink_strength = 0.1\n",
    "    else:\n",
    "        print('unknown vorticity sink strength')\n",
    "print('vorticity sink strength: ' + str(vort_sink_strength))"
   ]
  },
  {
   "cell_type": "code",
   "execution_count": 44,
   "metadata": {},
   "outputs": [
    {
     "name": "stdout",
     "output_type": "stream",
     "text": [
      "mxsub = 2 mysub = 1 mz = 128\n",
      "\n",
      "nxpe = 24, nype = 1, npes = 24\n",
      "\n",
      "Reading from 0: [2-3][0-0] -> [0-1][0-0]\n",
      "\n",
      "Reading from 1: [2-3][0-0] -> [2-3][0-0]\n",
      "\n",
      "Reading from 2: [2-3][0-0] -> [4-5][0-0]\n",
      "\n",
      "Reading from 3: [2-3][0-0] -> [6-7][0-0]\n",
      "\n",
      "Reading from 4: [2-3][0-0] -> [8-9][0-0]\n",
      "\n",
      "Reading from 5: [2-3][0-0] -> [10-11][0-0]\n",
      "\n",
      "Reading from 6: [2-3][0-0] -> [12-13][0-0]\n",
      "\n",
      "Reading from 7: [2-3][0-0] -> [14-15][0-0]\n",
      "\n",
      "Reading from 8: [2-3][0-0] -> [16-17][0-0]\n",
      "\n",
      "Reading from 9: [2-3][0-0] -> [18-19][0-0]\n",
      "\n",
      "Reading from 10: [2-3][0-0] -> [20-21][0-0]\n",
      "\n",
      "Reading from 11: [2-3][0-0] -> [22-23][0-0]\n",
      "\n",
      "Reading from 12: [2-3][0-0] -> [24-25][0-0]\n",
      "\n",
      "Reading from 13: [2-3][0-0] -> [26-27][0-0]\n",
      "\n",
      "Reading from 14: [2-3][0-0] -> [28-29][0-0]\n",
      "\n",
      "Reading from 15: [2-3][0-0] -> [30-31][0-0]\n",
      "\n",
      "Reading from 16: [2-3][0-0] -> [32-33][0-0]\n",
      "\n",
      "Reading from 17: [2-3][0-0] -> [34-35][0-0]\n",
      "\n",
      "Reading from 18: [2-3][0-0] -> [36-37][0-0]\n",
      "\n",
      "Reading from 19: [2-3][0-0] -> [38-39][0-0]\n",
      "\n",
      "Reading from 20: [2-3][0-0] -> [40-41][0-0]\n",
      "\n",
      "Reading from 21: [2-3][0-0] -> [42-43][0-0]\n",
      "\n",
      "Reading from 22: [2-3][0-0] -> [44-45][0-0]\n",
      "\n",
      "Reading from 23: [2-3][0-0] -> [46-47][0-0]\n",
      "\n",
      "\n",
      "mxsub = 2 mysub = 1 mz = 128\n",
      "\n",
      "nxpe = 24, nype = 1, npes = 24\n",
      "\n",
      "Reading from 0: [2-3][0-0] -> [0-1][0-0]\n",
      "\n",
      "Reading from 1: [2-3][0-0] -> [2-3][0-0]\n",
      "\n",
      "Reading from 2: [2-3][0-0] -> [4-5][0-0]\n",
      "\n",
      "Reading from 3: [2-3][0-0] -> [6-7][0-0]\n",
      "\n",
      "Reading from 4: [2-3][0-0] -> [8-9][0-0]\n",
      "\n",
      "Reading from 5: [2-3][0-0] -> [10-11][0-0]\n",
      "\n",
      "Reading from 6: [2-3][0-0] -> [12-13][0-0]\n",
      "\n",
      "Reading from 7: [2-3][0-0] -> [14-15][0-0]\n",
      "\n",
      "Reading from 8: [2-3][0-0] -> [16-17][0-0]\n",
      "\n",
      "Reading from 9: [2-3][0-0] -> [18-19][0-0]\n",
      "\n",
      "Reading from 10: [2-3][0-0] -> [20-21][0-0]\n",
      "\n",
      "Reading from 11: [2-3][0-0] -> [22-23][0-0]\n",
      "\n",
      "Reading from 12: [2-3][0-0] -> [24-25][0-0]\n",
      "\n",
      "Reading from 13: [2-3][0-0] -> [26-27][0-0]\n",
      "\n",
      "Reading from 14: [2-3][0-0] -> [28-29][0-0]\n",
      "\n",
      "Reading from 15: [2-3][0-0] -> [30-31][0-0]\n",
      "\n",
      "Reading from 16: [2-3][0-0] -> [32-33][0-0]\n",
      "\n",
      "Reading from 17: [2-3][0-0] -> [34-35][0-0]\n",
      "\n",
      "Reading from 18: [2-3][0-0] -> [36-37][0-0]\n",
      "\n",
      "Reading from 19: [2-3][0-0] -> [38-39][0-0]\n",
      "\n",
      "Reading from 20: [2-3][0-0] -> [40-41][0-0]\n",
      "\n",
      "Reading from 21: [2-3][0-0] -> [42-43][0-0]\n",
      "\n",
      "Reading from 22: [2-3][0-0] -> [44-45][0-0]\n",
      "\n",
      "Reading from 23: [2-3][0-0] -> [46-47][0-0]\n",
      "\n",
      "\n",
      "mxsub = 2 mysub = 1 mz = 128\n",
      "\n",
      "nxpe = 24, nype = 1, npes = 24\n",
      "\n",
      "Reading from 0: [2-3][0-0] -> [0-1][0-0]\n",
      "\n",
      "Reading from 1: [2-3][0-0] -> [2-3][0-0]\n",
      "\n",
      "Reading from 2: [2-3][0-0] -> [4-5][0-0]\n",
      "\n",
      "Reading from 3: [2-3][0-0] -> [6-7][0-0]\n",
      "\n",
      "Reading from 4: [2-3][0-0] -> [8-9][0-0]\n",
      "\n",
      "Reading from 5: [2-3][0-0] -> [10-11][0-0]\n",
      "\n",
      "Reading from 6: [2-3][0-0] -> [12-13][0-0]\n",
      "\n",
      "Reading from 7: [2-3][0-0] -> [14-15][0-0]\n",
      "\n",
      "Reading from 8: [2-3][0-0] -> [16-17][0-0]\n",
      "\n",
      "Reading from 9: [2-3][0-0] -> [18-19][0-0]\n",
      "\n",
      "Reading from 10: [2-3][0-0] -> [20-21][0-0]\n",
      "\n",
      "Reading from 11: [2-3][0-0] -> [22-23][0-0]\n",
      "\n",
      "Reading from 12: [2-3][0-0] -> [24-25][0-0]\n",
      "\n",
      "Reading from 13: [2-3][0-0] -> [26-27][0-0]\n",
      "\n",
      "Reading from 14: [2-3][0-0] -> [28-29][0-0]\n",
      "\n",
      "Reading from 15: [2-3][0-0] -> [30-31][0-0]\n",
      "\n",
      "Reading from 16: [2-3][0-0] -> [32-33][0-0]\n",
      "\n",
      "Reading from 17: [2-3][0-0] -> [34-35][0-0]\n",
      "\n",
      "Reading from 18: [2-3][0-0] -> [36-37][0-0]\n",
      "\n",
      "Reading from 19: [2-3][0-0] -> [38-39][0-0]\n",
      "\n",
      "Reading from 20: [2-3][0-0] -> [40-41][0-0]\n",
      "\n",
      "Reading from 21: [2-3][0-0] -> [42-43][0-0]\n",
      "\n",
      "Reading from 22: [2-3][0-0] -> [44-45][0-0]\n",
      "\n",
      "Reading from 23: [2-3][0-0] -> [46-47][0-0]\n",
      "\n",
      "\n",
      "mxsub = 2 mysub = 1 mz = 128\n",
      "\n",
      "nxpe = 24, nype = 1, npes = 24\n",
      "\n",
      "Reading from 0: [2-3][0-0] -> [0-1][0-0]\n",
      "\n",
      "Reading from 1: [2-3][0-0] -> [2-3][0-0]\n",
      "\n",
      "Reading from 2: [2-3][0-0] -> [4-5][0-0]\n",
      "\n",
      "Reading from 3: [2-3][0-0] -> [6-7][0-0]\n",
      "\n",
      "Reading from 4: [2-3][0-0] -> [8-9][0-0]\n",
      "\n",
      "Reading from 5: [2-3][0-0] -> [10-11][0-0]\n",
      "\n",
      "Reading from 6: [2-3][0-0] -> [12-13][0-0]\n",
      "\n",
      "Reading from 7: [2-3][0-0] -> [14-15][0-0]\n",
      "\n",
      "Reading from 8: [2-3][0-0] -> [16-17][0-0]\n",
      "\n",
      "Reading from 9: [2-3][0-0] -> [18-19][0-0]\n",
      "\n",
      "Reading from 10: [2-3][0-0] -> [20-21][0-0]\n",
      "\n",
      "Reading from 11: [2-3][0-0] -> [22-23][0-0]\n",
      "\n",
      "Reading from 12: [2-3][0-0] -> [24-25][0-0]\n",
      "\n",
      "Reading from 13: [2-3][0-0] -> [26-27][0-0]\n",
      "\n",
      "Reading from 14: [2-3][0-0] -> [28-29][0-0]\n",
      "\n",
      "Reading from 15: [2-3][0-0] -> [30-31][0-0]\n",
      "\n",
      "Reading from 16: [2-3][0-0] -> [32-33][0-0]\n",
      "\n",
      "Reading from 17: [2-3][0-0] -> [34-35][0-0]\n",
      "\n",
      "Reading from 18: [2-3][0-0] -> [36-37][0-0]\n",
      "\n",
      "Reading from 19: [2-3][0-0] -> [38-39][0-0]\n",
      "\n",
      "Reading from 20: [2-3][0-0] -> [40-41][0-0]\n",
      "\n",
      "Reading from 21: [2-3][0-0] -> [42-43][0-0]\n",
      "\n",
      "Reading from 22: [2-3][0-0] -> [44-45][0-0]\n",
      "\n",
      "Reading from 23: [2-3][0-0] -> [46-47][0-0]\n",
      "\n",
      "\n",
      "mxsub = 2 mysub = 1 mz = 128\n",
      "\n",
      "nxpe = 24, nype = 1, npes = 24\n",
      "\n",
      "Reading from 0: [2-3][0-0] -> [0-1][0-0]\n",
      "\n",
      "Reading from 1: [2-3][0-0] -> [2-3][0-0]\n",
      "\n",
      "Reading from 2: [2-3][0-0] -> [4-5][0-0]\n",
      "\n",
      "Reading from 3: [2-3][0-0] -> [6-7][0-0]\n",
      "\n",
      "Reading from 4: [2-3][0-0] -> [8-9][0-0]\n",
      "\n",
      "Reading from 5: [2-3][0-0] -> [10-11][0-0]\n",
      "\n",
      "Reading from 6: [2-3][0-0] -> [12-13][0-0]\n",
      "\n",
      "Reading from 7: [2-3][0-0] -> [14-15][0-0]\n",
      "\n",
      "Reading from 8: [2-3][0-0] -> [16-17][0-0]\n",
      "\n",
      "Reading from 9: [2-3][0-0] -> [18-19][0-0]\n",
      "\n",
      "Reading from 10: [2-3][0-0] -> [20-21][0-0]\n",
      "\n",
      "Reading from 11: [2-3][0-0] -> [22-23][0-0]\n",
      "\n",
      "Reading from 12: [2-3][0-0] -> [24-25][0-0]\n",
      "\n",
      "Reading from 13: [2-3][0-0] -> [26-27][0-0]\n",
      "\n",
      "Reading from 14: [2-3][0-0] -> [28-29][0-0]\n",
      "\n",
      "Reading from 15: [2-3][0-0] -> [30-31][0-0]\n",
      "\n",
      "Reading from 16: [2-3][0-0] -> [32-33][0-0]\n",
      "\n",
      "Reading from 17: [2-3][0-0] -> [34-35][0-0]\n",
      "\n",
      "Reading from 18: [2-3][0-0] -> [36-37][0-0]\n",
      "\n",
      "Reading from 19: [2-3][0-0] -> [38-39][0-0]\n",
      "\n",
      "Reading from 20: [2-3][0-0] -> [40-41][0-0]\n",
      "\n",
      "Reading from 21: [2-3][0-0] -> [42-43][0-0]\n",
      "\n",
      "Reading from 22: [2-3][0-0] -> [44-45][0-0]\n",
      "\n",
      "Reading from 23: [2-3][0-0] -> [46-47][0-0]\n",
      "\n",
      "\n",
      "mxsub = 2 mysub = 1 mz = 128\n",
      "\n",
      "nxpe = 24, nype = 1, npes = 24\n",
      "\n",
      "Reading from 0: [2-3][0-0] -> [0-1][0-0]\n",
      "\n",
      "Reading from 1: [2-3][0-0] -> [2-3][0-0]\n",
      "\n",
      "Reading from 2: [2-3][0-0] -> [4-5][0-0]\n",
      "\n",
      "Reading from 3: [2-3][0-0] -> [6-7][0-0]\n",
      "\n",
      "Reading from 4: [2-3][0-0] -> [8-9][0-0]\n",
      "\n",
      "Reading from 5: [2-3][0-0] -> [10-11][0-0]\n",
      "\n",
      "Reading from 6: [2-3][0-0] -> [12-13][0-0]\n",
      "\n",
      "Reading from 7: [2-3][0-0] -> [14-15][0-0]\n",
      "\n",
      "Reading from 8: [2-3][0-0] -> [16-17][0-0]\n",
      "\n",
      "Reading from 9: [2-3][0-0] -> [18-19][0-0]\n",
      "\n",
      "Reading from 10: [2-3][0-0] -> [20-21][0-0]\n",
      "\n",
      "Reading from 11: [2-3][0-0] -> [22-23][0-0]\n",
      "\n",
      "Reading from 12: [2-3][0-0] -> [24-25][0-0]\n",
      "\n",
      "Reading from 13: [2-3][0-0] -> [26-27][0-0]\n",
      "\n",
      "Reading from 14: [2-3][0-0] -> [28-29][0-0]\n",
      "\n",
      "Reading from 15: [2-3][0-0] -> [30-31][0-0]\n",
      "\n",
      "Reading from 16: [2-3][0-0] -> [32-33][0-0]\n",
      "\n",
      "Reading from 17: [2-3][0-0] -> [34-35][0-0]\n",
      "\n",
      "Reading from 18: [2-3][0-0] -> [36-37][0-0]\n",
      "\n",
      "Reading from 19: [2-3][0-0] -> [38-39][0-0]\n",
      "\n",
      "Reading from 20: [2-3][0-0] -> [40-41][0-0]\n",
      "\n",
      "Reading from 21: [2-3][0-0] -> [42-43][0-0]\n",
      "\n",
      "Reading from 22: [2-3][0-0] -> [44-45][0-0]\n",
      "\n",
      "Reading from 23: [2-3][0-0] -> [46-47][0-0]\n",
      "\n",
      "\n",
      "mxsub = 2 mysub = 1 mz = 128\n",
      "\n",
      "nxpe = 24, nype = 1, npes = 24\n",
      "\n"
     ]
    }
   ],
   "source": [
    "#%% Read data\n",
    "\n",
    "field_list  = ['T', 'n', 'phi', 'vort', 'source_T','wall_shadow']\n",
    "par_list    = ['t_array']\n",
    "# fast_list   = ['t_array', 'n0', 'phi0', 'n1', 'phi1', 'n2', 'phi2', 'T0', 'T1', 'T2']\n",
    "#%%\n",
    "data, par, fast = {}, {}, {}\n",
    "\n",
    "for _field in field_list:\n",
    "    data[_field] = collect(_field, path = path, xguards = False)\n",
    "\n",
    "for _par in par_list:\n",
    "    par[_par] = collect(_par, path = path, xguards = False)"
   ]
  },
  {
   "cell_type": "code",
   "execution_count": 45,
   "metadata": {},
   "outputs": [],
   "source": [
    "thetas = np.linspace(0, 2 * np.pi, nz_inner)\n",
    "rhos = np.linspace(Lx/(2*nx_inner), Lx+Lx/(2*nx_inner), nx_inner)\n",
    "t = par['t_array']/oci"
   ]
  },
  {
   "cell_type": "markdown",
   "metadata": {},
   "source": [
    "### Mean Density"
   ]
  },
  {
   "cell_type": "code",
   "execution_count": 46,
   "metadata": {},
   "outputs": [],
   "source": [
    "n_mean = np.mean(np.mean(data['n'].squeeze(),axis=1), axis=1)"
   ]
  },
  {
   "cell_type": "code",
   "execution_count": 47,
   "metadata": {},
   "outputs": [
    {
     "data": {
      "image/png": "[encoded data removed]",
      "text/plain": [
       "<Figure size 216x144 with 1 Axes>"
      ]
     },
     "metadata": {
      "needs_background": "light"
     },
     "output_type": "display_data"
    }
   ],
   "source": [
    "plt.figure(figsize=(3,2))\n",
    "plt.plot(t*(10**6),n_mean, 'k-')\n",
    "plt.xlabel(r'$t$  $\\mathrm{\\mu s}$')\n",
    "plt.ylabel(r'$\\left<n\\right>$  [norm. unit]')\n",
    "plt.grid()\n",
    "plt.title('With vorticity sink strength: ' + str(vort_sink_strength), pad=20)\n",
    "plt.savefig('plots/' + job_id + 'density_vs_time.png')"
   ]
  },
  {
   "cell_type": "markdown",
   "metadata": {},
   "source": [
    "### Contained Energy"
   ]
  },
  {
   "cell_type": "code",
   "execution_count": 48,
   "metadata": {},
   "outputs": [],
   "source": [
    "mesh_t, mesh_rhos, mesh_thetas = np.meshgrid(t, rhos, thetas, indexing='ij')\n",
    "\n",
    "Jfun = lambda t, r, theta: np.abs(r*(R + r*np.cos(theta)))\n",
    "def energy():\n",
    "    n = data['n'].squeeze()*n0\n",
    "    T = data['T'].squeeze()*Te0\n",
    "    J = Jfun(mesh_t, mesh_rhos, mesh_thetas)\n",
    "    return 2*np.pi*np.trapz(np.trapz(J*((3/2)*n*T), rhos, axis=1), thetas, axis=1)\n",
    "\n",
    "E = energy()"
   ]
  },
  {
   "cell_type": "code",
   "execution_count": 49,
   "metadata": {},
   "outputs": [
    {
     "data": {
      "image/png": "[encoded data removed]",
      "text/plain": [
       "<Figure size 216x144 with 1 Axes>"
      ]
     },
     "metadata": {
      "needs_background": "light"
     },
     "output_type": "display_data"
    }
   ],
   "source": [
    "plt.figure(figsize=(3,2))\n",
    "plt.plot(t*(10**6), E, 'k-')\n",
    "plt.xlabel(r'$t$  $\\mathrm{\\mu s}$')\n",
    "plt.ylabel(r'$E$  $\\mathrm{[eV]}$')\n",
    "plt.grid()\n",
    "plt.title('With vorticity sink strength: ' + str(vort_sink_strength), pad=20)\n",
    "plt.savefig('plots/' + job_id + '_energy.png')"
   ]
  },
  {
   "cell_type": "code",
   "execution_count": 50,
   "metadata": {},
   "outputs": [],
   "source": [
    "# Method to change the contour data points\n",
    "def plot_field(field, i, cmap='inferno'):\n",
    "    vmin = data[field].min()\n",
    "    vmax = data[field].max()\n",
    "    # ax.clear()\n",
    "    contour_set = ax.contourf(thetas, rhos, data[field][i, :, :, :].squeeze(), 100, cmap = cmap, vmin=vmin, vmax=vmax)\n",
    "    ax.set_rticks([])\n",
    "    ax.set_xticks([])\n",
    "    fig.tight_layout()\n",
    "    return contour_set\n",
    "\n",
    "def animate_n(i):\n",
    "    plot_field('n',i)\n",
    "def animate_T(i):\n",
    "    plot_field('T',i)\n",
    "def animate_vort(i):\n",
    "    plot_field('vort',i, cmap='jet')"
   ]
  },
  {
   "cell_type": "code",
   "execution_count": 56,
   "metadata": {},
   "outputs": [],
   "source": [
    "import matplotlib.animation as animation\n",
    "\n",
    "def animate_data(field, cmap='inferno', vmin = None, vmax = None):\n",
    "    field_data = data[field].squeeze()\n",
    "    if vmin is None:\n",
    "        vmin = field_data.min()\n",
    "    if vmax is None:\n",
    "        vmax = field_data.max()\n",
    "    fig, ax = plt.subplots(subplot_kw={'projection': 'polar'})\n",
    "    fig.suptitle('With vorticity sink strength: ' + str(vort_sink_strength))\n",
    "    \n",
    "    ax.set_rticks([])\n",
    "    ax.set_xticks([])\n",
    "    cont = ax.contourf(thetas, rhos, field_data[0, :, :], 100, cmap = cmap, vmin=vmin, vmax=vmax)    # first image on screen\n",
    "    fig.colorbar(cont, ax=ax)\n",
    "    fig.tight_layout()\n",
    "\n",
    "    # animation function\n",
    "    def animate(i):\n",
    "        for c in ax.collections:\n",
    "            c.remove()  # removes only the contours, leaves the rest intact\n",
    "        cont = ax.contourf(thetas, rhos, field_data[i, :, :], 100, cmap = cmap, vmin=vmin, vmax=vmax)\n",
    "        return cont.collections\n",
    "    \n",
    "    anim = animation.FuncAnimation(fig, animate, frames=field_data.shape[0], interval=100, blit=True)\n",
    "    anim.save('./plots/' + job_id + '_animation_' + field +'.gif', fps=4)\n",
    "    plt.show()"
   ]
  },
  {
   "cell_type": "code",
   "execution_count": 57,
   "metadata": {},
   "outputs": [
    {
     "name": "stderr",
     "output_type": "stream",
     "text": [
      "MovieWriter ffmpeg unavailable; using Pillow instead.\n"
     ]
    },
    {
     "data": {
      "image/png": "[encoded data removed]",
      "text/plain": [
       "<Figure size 432x288 with 2 Axes>"
      ]
     },
     "metadata": {
      "needs_background": "light"
     },
     "output_type": "display_data"
    }
   ],
   "source": [
    "animate_data('n')"
   ]
  },
  {
   "cell_type": "code",
   "execution_count": 55,
   "metadata": {},
   "outputs": [
    {
     "name": "stderr",
     "output_type": "stream",
     "text": [
      "MovieWriter ffmpeg unavailable; using Pillow instead.\n"
     ]
    },
    {
     "data": {
      "image/png": "[encoded data removed]",
      "text/plain": [
       "<Figure size 432x288 with 2 Axes>"
      ]
     },
     "metadata": {
      "needs_background": "light"
     },
     "output_type": "display_data"
    }
   ],
   "source": [
    "animate_data('T', vmin=0, vmax=5)"
   ]
  },
  {
   "cell_type": "code",
   "execution_count": null,
   "metadata": {},
   "outputs": [],
   "source": [
    "animate_data('vort', cmap='jet')"
   ]
  },
  {
   "cell_type": "code",
   "execution_count": null,
   "metadata": {},
   "outputs": [],
   "source": [
    "animate_data('phi', cmap='jet')"
   ]
  }
 ],
 "metadata": {
  "kernelspec": {
   "display_name": "venv",
   "language": "python",
   "name": "venv"
  },
  "language_info": {
   "codemirror_mode": {
    "name": "ipython",
    "version": 3
   },
   "file_extension": ".py",
   "mimetype": "text/x-python",
   "name": "python",
   "nbconvert_exporter": "python",
   "pygments_lexer": "ipython3",
   "version": "3.8.6"
  },
  "orig_nbformat": 4,
  "vscode": {
   "interpreter": {
    "hash": "224ae1986ea58ff94007dbe32974f2e348ab1cb1b1c3796c4332e053e2c649e7"
   }
  }
 },
 "nbformat": 4,
 "nbformat_minor": 2
}
